{
  "cells": [
    {
      "cell_type": "markdown",
      "metadata": {
        "id": "73JHBwym-IfY"
      },
      "source": [
        "## Week 6 : Large Language Models\n",
        "```\n",
        "- Generative Artificial Intelligence (Fall semester 2023)\n",
        "- Professor: Muhammad Fahim\n",
        "- Teaching Assistant: Ahmad Taha\n",
        "```\n",
        "<hr>\n",
        "\n",
        "## Contents\n",
        "```\n",
        "1. Transformers (Implementing a transformer)\n",
        "2. Self-Attention\n",
        "3. Multi-headed attention\n",
        "4. Positional Encoding\n",
        "\n",
        "```\n",
        "\n",
        "<hr>\n"
      ]
    },
    {
      "cell_type": "markdown",
      "metadata": {
        "id": "ivBBW705o6JG"
      },
      "source": [
        "# Transformers\n",
        "\n",
        "* [Attention Is All You Need](https://arxiv.org/pdf/1706.03762.pdf) -- Original paper on attention\n",
        "\n",
        "![](http://jalammar.github.io/images/t/The_transformer_encoder_decoder_stack.png)\n"
      ]
    },
    {
      "cell_type": "code",
      "execution_count": 1,
      "metadata": {
        "colab": {
          "base_uri": "https://localhost:8080/"
        },
        "id": "PkzgoQHBzCsS",
        "outputId": "420cf82f-fb86-417c-cab8-9bd017c35afc"
      },
      "outputs": [
        {
          "output_type": "execute_result",
          "data": {
            "text/plain": [
              "device(type='cuda')"
            ]
          },
          "metadata": {},
          "execution_count": 1
        }
      ],
      "source": [
        "import torch\n",
        "from torch import nn\n",
        "import torch.optim as optim\n",
        "import pandas as pd\n",
        "import numpy as np\n",
        "\n",
        "from torch.utils.data import DataLoader, TensorDataset\n",
        "\n",
        "device = torch.device('cuda' if torch.cuda.is_available() else 'cpu')\n",
        "device"
      ]
    },
    {
      "cell_type": "markdown",
      "metadata": {
        "id": "gqbWEqEG04nj"
      },
      "source": [
        "### Transformer Encoder with Pytorch"
      ]
    },
    {
      "cell_type": "code",
      "execution_count": 2,
      "metadata": {
        "id": "bqvnRd4zASjV",
        "colab": {
          "base_uri": "https://localhost:8080/"
        },
        "outputId": "68dec763-f962-495c-d6fe-7598bddb0506"
      },
      "outputs": [
        {
          "output_type": "stream",
          "name": "stderr",
          "text": [
            "/usr/local/lib/python3.10/dist-packages/torch/nn/modules/transformer.py:306: UserWarning: enable_nested_tensor is True, but self.use_nested_tensor is False because encoder_layer.self_attn.batch_first was not True(use batch_first for better inference performance)\n",
            "  warnings.warn(f\"enable_nested_tensor is True, but self.use_nested_tensor is False because {why_not_sparsity_fast_path}\")\n"
          ]
        }
      ],
      "source": [
        "encoder_layer = nn.TransformerEncoderLayer(d_model=512, nhead=32)\n",
        "transformer_encoder = nn.TransformerEncoder(encoder_layer, num_layers=3)"
      ]
    },
    {
      "cell_type": "code",
      "execution_count": 3,
      "metadata": {
        "colab": {
          "base_uri": "https://localhost:8080/"
        },
        "id": "mmaOP-5BAiVG",
        "outputId": "733e1e48-6167-4b47-8abe-ab306b6d2156"
      },
      "outputs": [
        {
          "output_type": "execute_result",
          "data": {
            "text/plain": [
              "TransformerEncoderLayer(\n",
              "  (self_attn): MultiheadAttention(\n",
              "    (out_proj): NonDynamicallyQuantizableLinear(in_features=512, out_features=512, bias=True)\n",
              "  )\n",
              "  (linear1): Linear(in_features=512, out_features=2048, bias=True)\n",
              "  (dropout): Dropout(p=0.1, inplace=False)\n",
              "  (linear2): Linear(in_features=2048, out_features=512, bias=True)\n",
              "  (norm1): LayerNorm((512,), eps=1e-05, elementwise_affine=True)\n",
              "  (norm2): LayerNorm((512,), eps=1e-05, elementwise_affine=True)\n",
              "  (dropout1): Dropout(p=0.1, inplace=False)\n",
              "  (dropout2): Dropout(p=0.1, inplace=False)\n",
              ")"
            ]
          },
          "metadata": {},
          "execution_count": 3
        }
      ],
      "source": [
        "encoder_layer"
      ]
    },
    {
      "cell_type": "markdown",
      "metadata": {
        "id": "ETf4hBGZBmB6"
      },
      "source": [
        "## Encoder\n",
        "\n",
        "The encoder contains a self-attention layer – a layer that helps the encoder look at other words in the input sentence as it encodes a specific word. <br>\n",
        "**The main goal is to efficiently encode the data**\n",
        "\n",
        "![](http://jalammar.github.io/images/t/encoder_with_tensors.png)"
      ]
    },
    {
      "cell_type": "markdown",
      "metadata": {
        "id": "7MQv6sV8CHcb"
      },
      "source": [
        "## Self-Attention\n",
        "\n",
        "**Keep in mind : The main goal is to encode the data in a much more efficient way** In other words is to create meaningful embeddings<br>\n",
        "- As the model processes each word (each position in the input sequence), self attention allows it to look at other positions in the input sequence for clues that can help lead to a better encoding for this word.\n",
        "\n",
        "\n",
        "**How does Self-Attention work?**\n",
        "\n",
        "Steps:\n",
        "1. For each word, we create a **`Query`** vector, a **`Key`** vector, and a **`Value`** vector.\n",
        "  - What are the **`Query`** vector, a **`Key`** vector, and a **`Value`** vector? : They’re abstractions that are useful for calculating attention... They are a breakdown of the word embeddings\n",
        "2. Calculating self-attention score from **`Query`** **`Key`** vector.\n",
        "3. Divide the scores by 8 (This leads to having more stable gradients)\n",
        "4. Pass the result through a softmax operation (softmax score determines how much each word will be expressed at this position)\n",
        "5. Multiply each value vector by the softmax score\n",
        "6. Sum up the weighted value vectors"
      ]
    },
    {
      "cell_type": "markdown",
      "metadata": {
        "id": "2RevROKUGFOX"
      },
      "source": [
        "### Step 1\n",
        "\n",
        "For each word, we create a **`Query`** vector, a **`Key`** vector, and a **`Value`** vector.\n",
        "\n",
        "![](http://jalammar.github.io/images/t/transformer_self_attention_vectors.png)"
      ]
    },
    {
      "cell_type": "code",
      "execution_count": 4,
      "metadata": {
        "id": "YDahLOTBDVDP"
      },
      "outputs": [],
      "source": [
        "# simple sequence = I am here today\n",
        "simple_sequence_embedding = torch.rand((4, 512))\n",
        "\n",
        "# Create weight matrices\n",
        "Wq = torch.normal(0,0.5, (512, 7))\n",
        "Wk = torch.normal(0,0.1, (512, 7))\n",
        "Wv = torch.normal(0,0.2, (512, 7))\n",
        "\n",
        "# Create key, query and value for each word in the senetence\n",
        "queries = simple_sequence_embedding.mm(Wq) # self.q(embedding[0])\n",
        "keys = simple_sequence_embedding.mm(Wk)\n",
        "values = simple_sequence_embedding.mm(Wv)"
      ]
    },
    {
      "cell_type": "code",
      "execution_count": 5,
      "metadata": {
        "colab": {
          "base_uri": "https://localhost:8080/"
        },
        "id": "a2dceawSN2PQ",
        "outputId": "443d91c1-e7af-49f0-bfc5-6116190bf65c"
      },
      "outputs": [
        {
          "output_type": "execute_result",
          "data": {
            "text/plain": [
              "tensor([[-2.8819,  0.3868,  0.6122,  1.1638, -0.4031,  0.1574, -0.7762],\n",
              "        [-2.7936, -1.8659,  0.0103,  0.2582, -0.1112, -2.6158, -2.6719],\n",
              "        [-4.5350,  0.5986,  0.0890,  2.0842, -2.3219, -1.9934, -1.2703],\n",
              "        [-5.2214,  1.0248, -0.0500,  1.9272,  1.1439, -2.5974, -1.6072]])"
            ]
          },
          "metadata": {},
          "execution_count": 5
        }
      ],
      "source": [
        "values"
      ]
    },
    {
      "cell_type": "code",
      "execution_count": 6,
      "metadata": {
        "colab": {
          "base_uri": "https://localhost:8080/"
        },
        "id": "FhXQl2p8Nzp_",
        "outputId": "db263b77-ac33-4427-a2fc-0ffaef8f6c04"
      },
      "outputs": [
        {
          "output_type": "execute_result",
          "data": {
            "text/plain": [
              "tensor([[0.8522, 0.0400, 0.3084,  ..., 0.8247, 0.4982, 0.6945],\n",
              "        [0.7480, 0.7605, 0.2476,  ..., 0.7656, 0.9916, 0.6474],\n",
              "        [0.4129, 0.4805, 0.3385,  ..., 0.2986, 0.1851, 0.3807],\n",
              "        [0.5022, 0.7521, 0.8176,  ..., 0.7204, 0.7519, 0.4126]])"
            ]
          },
          "metadata": {},
          "execution_count": 6
        }
      ],
      "source": [
        "simple_sequence_embedding"
      ]
    },
    {
      "cell_type": "markdown",
      "metadata": {
        "id": "gueARUu0KFVm"
      },
      "source": [
        "## Step 2\n",
        "\n",
        "Calculating self-attention score from **`Query`** and **`Key`** vector"
      ]
    },
    {
      "cell_type": "code",
      "execution_count": 7,
      "metadata": {
        "colab": {
          "base_uri": "https://localhost:8080/"
        },
        "id": "6TwUclKXLN14",
        "outputId": "42ceb1b6-a8d7-491e-cf03-5512e7e0ef9a"
      },
      "outputs": [
        {
          "output_type": "execute_result",
          "data": {
            "text/plain": [
              "tensor([[  7.2688,  -2.7020,  10.7785,  -9.2198],\n",
              "        [  1.0508,   3.0068,  10.7285, -15.1156],\n",
              "        [  5.0860,   0.4926,   9.4564,   1.8765],\n",
              "        [ -2.1986,  -5.0873,   1.2713,  -1.7891]])"
            ]
          },
          "metadata": {},
          "execution_count": 7
        }
      ],
      "source": [
        "scores = torch.mm(queries, keys.T)\n",
        "scores"
      ]
    },
    {
      "cell_type": "markdown",
      "metadata": {
        "id": "FZugp0egQEPQ"
      },
      "source": [
        "## Step 3\n",
        "Divide the scores by 8 (This leads to having more stable gradients)"
      ]
    },
    {
      "cell_type": "code",
      "execution_count": 8,
      "metadata": {
        "colab": {
          "base_uri": "https://localhost:8080/"
        },
        "id": "gA1G9MmeQPuP",
        "outputId": "32479872-e337-43e8-e382-63abc2037438"
      },
      "outputs": [
        {
          "output_type": "execute_result",
          "data": {
            "text/plain": [
              "tensor([[ 0.9086, -0.3377,  1.3473, -1.1525],\n",
              "        [ 0.1314,  0.3759,  1.3411, -1.8894],\n",
              "        [ 0.6357,  0.0616,  1.1821,  0.2346],\n",
              "        [-0.2748, -0.6359,  0.1589, -0.2236]])"
            ]
          },
          "metadata": {},
          "execution_count": 8
        }
      ],
      "source": [
        "scores = scores / 8\n",
        "scores"
      ]
    },
    {
      "cell_type": "markdown",
      "metadata": {
        "id": "a-MZsAkWQWlp"
      },
      "source": [
        "## Step 4\n",
        "\n",
        "Pass the result through a softmax operation"
      ]
    },
    {
      "cell_type": "code",
      "execution_count": 9,
      "metadata": {
        "colab": {
          "base_uri": "https://localhost:8080/"
        },
        "id": "0_hpI-SNKqAA",
        "outputId": "8a293e95-f4f8-476a-c05b-a270c245e5db"
      },
      "outputs": [
        {
          "output_type": "execute_result",
          "data": {
            "text/plain": [
              "tensor([[0.3372, 0.0970, 0.5229, 0.0429],\n",
              "        [0.1735, 0.2216, 0.5818, 0.0230],\n",
              "        [0.2526, 0.1422, 0.4361, 0.1691],\n",
              "        [0.2330, 0.1624, 0.3595, 0.2452]])"
            ]
          },
          "metadata": {},
          "execution_count": 9
        }
      ],
      "source": [
        "scores = torch.nn.functional.softmax(scores, dim=1)\n",
        "scores"
      ]
    },
    {
      "cell_type": "markdown",
      "metadata": {
        "id": "HskCcOiRQlam"
      },
      "source": [
        "## Step 5 & 6\n",
        "\n",
        "* Multiply each value vector by the softmax score\n",
        "* Sum up the weighted value vectors\n",
        "\n"
      ]
    },
    {
      "cell_type": "code",
      "execution_count": 10,
      "metadata": {
        "colab": {
          "base_uri": "https://localhost:8080/"
        },
        "id": "aT3lZwy4TLK1",
        "outputId": "31c5ad72-0814-41a5-cfde-65384994b081"
      },
      "outputs": [
        {
          "output_type": "execute_result",
          "data": {
            "text/plain": [
              "(torch.Size([4, 4]), torch.Size([4, 7]))"
            ]
          },
          "metadata": {},
          "execution_count": 10
        }
      ],
      "source": [
        "scores.shape, values.shape"
      ]
    },
    {
      "cell_type": "code",
      "execution_count": 11,
      "metadata": {
        "colab": {
          "base_uri": "https://localhost:8080/"
        },
        "id": "wDsYOfEnHWVq",
        "outputId": "e7a7a0d7-54f1-4308-ab72-42111aab8555"
      },
      "outputs": [
        {
          "output_type": "execute_result",
          "data": {
            "text/plain": [
              "tensor([[-3.8382,  0.3065,  0.2519,  1.5901, -1.3117, -1.3544, -1.2540],\n",
              "        [-3.8780,  0.0255,  0.1592,  1.5162, -1.4192, -1.7720, -1.5029],\n",
              "        [-3.9859,  0.2666,  0.1865,  1.5655, -0.9368, -1.6409, -1.4018],\n",
              "        [-4.0355,  0.2536,  0.1641,  1.5348, -0.6661, -1.7415, -1.4654]])"
            ]
          },
          "metadata": {},
          "execution_count": 11
        }
      ],
      "source": [
        "z = scores @ values\n",
        "z"
      ]
    },
    {
      "cell_type": "markdown",
      "metadata": {
        "id": "tbCd2yNhzGv5"
      },
      "source": [
        "# Multi-headed attention\n",
        "\n",
        "**GOAL**:\n",
        "1. Expand the model’s ability to focus on different positions\n",
        "2. Provide the attention layer multiple “representation subspaces”\n",
        "\n",
        "**Attention with $N$ just means repeating self attention algorithm $N$ times and joining the results**\n",
        "\n",
        "\n",
        "![](https://data-science-blog.com/wp-content/uploads/2022/01/mha_img_original.png)\n",
        "\n",
        "**Multi-headed attention steps:**\n",
        "1. Same as self-attention calculation, just n different times with different weight matrices\n",
        "2. Condense the $N$ z metrices down into a single matrix by concatinating the matrices then multiply them by an additional weights matrix `WO`\n",
        "\n",
        "Now the output z metrix is fed to the FFNN"
      ]
    },
    {
      "cell_type": "code",
      "execution_count": 12,
      "metadata": {
        "id": "99lM0p2IUd2k"
      },
      "outputs": [],
      "source": [
        "from torch import Tensor\n",
        "import torch.nn.functional as f\n",
        "\n",
        "\n",
        "def scaled_dot_product_attention(query, key, value):\n",
        "  temp = query.bmm(key.transpose(1, 2))\n",
        "  scale = query.size(-1) ** 0.5\n",
        "  softmax = f.softmax(temp / scale, dim=-1)\n",
        "  return softmax.bmm(value)"
      ]
    },
    {
      "cell_type": "markdown",
      "metadata": {
        "id": "Sph09F-Qdlw1"
      },
      "source": [
        "## Now lets make attention head"
      ]
    },
    {
      "cell_type": "code",
      "execution_count": 13,
      "metadata": {
        "id": "MfKQevaDdrQu"
      },
      "outputs": [],
      "source": [
        "import torch.nn as nn\n",
        "\n",
        "class AttentionHead(nn.Module):\n",
        "    def __init__(self, dim_in, dim_q, dim_k):\n",
        "        super().__init__()\n",
        "        # Fill in the missing parts of the constructor to initialize the query, key, and value linear transformations\n",
        "        # dim_in is the input dimension, dim_q and dim_k are the output dimensions for the queries and keys/values respectively\n",
        "        # Example: dim_in 512, dim_q = dim_k 64 in the paper\n",
        "        self.q = nn.Linear(dim_in, dim_q)\n",
        "        self.k = nn.Linear(dim_in, dim_k)\n",
        "        self.v = nn.Linear(dim_in, dim_k)\n",
        "\n",
        "    def forward(self, query, key, value):\n",
        "        # Implement the forward pass by calling scaled_dot_product_attention function\n",
        "        # You need to transform the query, key, and value using the linear transformations defined in __init__\n",
        "        # Fill in with the correct method calls\n",
        "        return scaled_dot_product_attention(self.q(query), self.k(key), self.v(value))"
      ]
    },
    {
      "cell_type": "markdown",
      "metadata": {
        "id": "ig3CKeuseEOs"
      },
      "source": [
        "## Multi Head Attention"
      ]
    },
    {
      "cell_type": "code",
      "execution_count": 14,
      "metadata": {
        "id": "L_kYFonCeD-y"
      },
      "outputs": [],
      "source": [
        "class MultiHeadToAttention(nn.Module):\n",
        "    def __init__(self, number_of_heads, dim_in, dim_q, dim_k):\n",
        "        super().__init__()\n",
        "        # Initialize heads as multi-AttentionHead instances\n",
        "        # Initialize linear to combine the outputs of all heads into a single output\n",
        "        self.heads = nn.ModuleList([AttentionHead(dim_in, dim_q, dim_k) for _ in range(number_of_heads)])\n",
        "        self.linear = nn.Linear(number_of_heads * dim_k , dim_in)\n",
        "\n",
        "    def forward(self, query: Tensor, key: Tensor, value: Tensor):\n",
        "        # Concatenate outputs from all heads and apply the final linear transformation\n",
        "        out = [head(query, key, value) for head in self.heads]\n",
        "        return self.linear(torch.cat(out, dim=-1))"
      ]
    },
    {
      "cell_type": "markdown",
      "metadata": {
        "id": "nk0KG1p0UeSV"
      },
      "source": [
        "## Positional Encoding\n",
        "\n",
        "A way to account for the order of the words in the input sequence. A transformer adds a vector to each input embedding which helps it determine the position of each word. <br>\n",
        "**Goal** : preserving information about the order of tokens  \n",
        "\n",
        "Positional Encoding they can either be learned or fixed a priori.\n",
        "\n",
        "Proposed approach from original paper : describe a simple scheme for fixed positional encodings based on sine and cosine functions\n",
        "\n",
        "![](https://miro.medium.com/v2/resize:fit:640/format:webp/1*C3a9RL6-SFC6fW8NGpJg5A.png)"
      ]
    },
    {
      "cell_type": "code",
      "execution_count": 15,
      "metadata": {
        "id": "q_AGKKflld67"
      },
      "outputs": [],
      "source": [
        "def position_encoding(seq_len, dim_model, device):\n",
        "    # Define the position tensor 'pos' with dimensions appropriate for sequence length\n",
        "    pos = torch.arange(seq_len, dtype=torch.float, device=device).reshape(1, -1, 1)\n",
        "\n",
        "    # Define the dimension tensor 'dim' suitable for the model dimensions\n",
        "    dim = torch.arange(dim_model, dtype=torch.float, device=device).reshape(1, 1, -1)\n",
        "\n",
        "    # Calculate the phase using the position and dimension tensors\n",
        "    phase = pos / (1e4 ** (dim / dim_model))\n",
        "\n",
        "    # Return the sinusoidal position encoding\n",
        "    return torch.where(dim.long() % 2 == 0, torch.sin(phase), torch.cos(phase))"
      ]
    },
    {
      "cell_type": "markdown",
      "metadata": {
        "id": "zB6Z4v4dnlYk"
      },
      "source": [
        "## Encoder Feed Forward"
      ]
    },
    {
      "cell_type": "code",
      "execution_count": 16,
      "metadata": {
        "id": "19MLi_k0nuZr"
      },
      "outputs": [],
      "source": [
        "def feed_forward(dim_input = 512, dim_feedforward = 2048):\n",
        "  return nn.Sequential(nn.Linear(dim_input, dim_feedforward),\n",
        "                       nn.ReLU(),\n",
        "                       nn.Linear(dim_feedforward, dim_input)\n",
        "                       )"
      ]
    },
    {
      "cell_type": "markdown",
      "metadata": {
        "id": "ctJcODqZoNjm"
      },
      "source": [
        "## Encoder Residual\n",
        "\n",
        "From the original paper the author implementation"
      ]
    },
    {
      "cell_type": "code",
      "execution_count": 17,
      "metadata": {
        "id": "Z3jxUDJxoJrh"
      },
      "outputs": [],
      "source": [
        "class Residual(nn.Module):\n",
        "  def __init__(self, sublayer, dimension, dropout = 0.1):\n",
        "    super().__init__()\n",
        "    self.sublayer = sublayer\n",
        "    self.norm = nn.LayerNorm(dimension)\n",
        "    self.dropout = nn.Dropout(dropout)\n",
        "\n",
        "  def forward(self, *tensors):\n",
        "    return self.norm(tensors[0] + self.dropout(self.sublayer(*tensors)))"
      ]
    },
    {
      "cell_type": "markdown",
      "metadata": {
        "id": "rbO7zQf6Z6oC"
      },
      "source": [
        "## Putting all together on encoder side\n",
        "\n",
        "![](http://jalammar.github.io/images/t/transformer_resideual_layer_norm_2.png)"
      ]
    },
    {
      "cell_type": "markdown",
      "metadata": {
        "id": "N_IWAB7fpdnX"
      },
      "source": [
        "## Putting the Encoder layer together"
      ]
    },
    {
      "cell_type": "code",
      "execution_count": 18,
      "metadata": {
        "id": "6mclItDepir9"
      },
      "outputs": [],
      "source": [
        "class TransformerEncoderLayer(nn.Module):\n",
        "    def __init__(self, dim_model=512, num_heads=6, dim_feedforward=2048, dropout=0.1):\n",
        "        super().__init__()\n",
        "        # Define dimensions for query and key based on model dimension and number of heads\n",
        "        dim_q = dim_k = max(dim_model // num_heads, 1)\n",
        "\n",
        "        # Initialize the MultiHeadAttention component with a residual connection and dropout\n",
        "        self.attention = Residual(MultiHeadToAttention(num_heads, dim_model, dim_q, dim_k),\n",
        "                              dimension=dim_model, dropout=dropout)\n",
        "\n",
        "        # Initialize the feedforward component with a residual connection and dropout\n",
        "        self.feed_forward = Residual(feed_forward(dim_model, dim_feedforward), dimension=dim_model, dropout=dropout)\n",
        "\n",
        "    def forward(self, src):\n",
        "        # Apply the attention mechanism to the source data\n",
        "        src = self.attention(src, src, src)\n",
        "\n",
        "        # Apply the feedforward network to the output of the attention mechanism\n",
        "        return self.feed_forward(src)"
      ]
    },
    {
      "cell_type": "markdown",
      "metadata": {
        "id": "HfQ17Qy2pubd"
      },
      "source": [
        "## Putting together transfomer Encoder part"
      ]
    },
    {
      "cell_type": "code",
      "execution_count": 19,
      "metadata": {
        "id": "kwXf_WW-puz_"
      },
      "outputs": [],
      "source": [
        "class TransformerEncoder(nn.Module):\n",
        "    def __init__(self, num_layers=12, dim_model=512, num_heads=4, dim_feedforward=2048, dropout=0.1):\n",
        "        super().__init__()\n",
        "        # Initialize a list of TransformerEncoderLayer instances\n",
        "        self.layers = nn.ModuleList([TransformerEncoderLayer(dim_model, num_heads, dim_feedforward, dropout) for _ in range(num_layers) ])\n",
        "\n",
        "    def forward(self, src):\n",
        "        # Retrieve the sequence length and dimension from the source tensor\n",
        "        seq_len, dimension = src.size(1), src.size(2)\n",
        "\n",
        "        # Add position encoding to the source tensor\n",
        "        src += position_encoding(seq_len, dimension, src.device)\n",
        "\n",
        "        # Process each layer in the transformer encoder\n",
        "        for layer in self.layers:\n",
        "            src = layer(src)\n",
        "\n",
        "        return src"
      ]
    },
    {
      "cell_type": "markdown",
      "metadata": {
        "id": "T9iOQWX8aQn9"
      },
      "source": [
        "# The Decoder Side\n",
        "\n",
        "The encoder start by processing the input sequence. The output of the top encoder is then transformed into a set of attention vectors K and V. These are to be used by each decoder.\n",
        "\n",
        "\n",
        "![](https://jalammar.github.io/images/t/transformer_resideual_layer_norm_3.png)"
      ]
    },
    {
      "cell_type": "markdown",
      "metadata": {
        "id": "ehLixHKossPK"
      },
      "source": [
        "## Decoder layer\n",
        "\n",
        "The “Encoder-Decoder Attention” layer works just like multiheaded self-attention, except it creates its Queries matrix from the layer below it, and takes the Keys and Values matrix from the output of the encoder stack.\n",
        "\n",
        "**Task**: implement the decoder layer"
      ]
    },
    {
      "cell_type": "code",
      "execution_count": 20,
      "metadata": {
        "id": "D8Kpvt0Gsxiq"
      },
      "outputs": [],
      "source": [
        "class TransformerDecoderLayer(nn.Module):\n",
        "    def __init__(\n",
        "        self,\n",
        "        dim_model: int = 512,\n",
        "        num_heads: int = 6,\n",
        "        dim_feedforward: int = 2048,\n",
        "        dropout: float = 0.1,\n",
        "    ):\n",
        "        super().__init__()\n",
        "        # init dim_q and dim_k as in the encoder\n",
        "        dim_q = dim_k = max(dim_model // num_heads, 1)\n",
        "        # Initialize the first self-attention layer with a residual connection\n",
        "        self.attention_1 = Residual(MultiHeadToAttention(num_heads, dim_model, dim_q, dim_k),\n",
        "                                       dimension=dim_model, dropout=dropout)\n",
        "\n",
        "        # Initialize the second attention layer for interaction with the encoder output\n",
        "        self.attention_2 = Residual(MultiHeadToAttention(num_heads, dim_model, dim_q, dim_k),\n",
        "                                          dimension=dim_model, dropout=dropout)\n",
        "\n",
        "        # Initialize the feed-forward network\n",
        "        self.feed_forward = Residual(feed_forward(dim_model, dim_feedforward), dimension=dim_model, dropout=dropout)\n",
        "\n",
        "    def forward(self, tgt: Tensor, memory: Tensor) -> Tensor:\n",
        "        # Self-attention mechanism\n",
        "        tgt = self.attention_1(tgt, tgt, tgt)\n",
        "\n",
        "        # Cross-attention mechanism where the decoder attends to the encoder's output\n",
        "        tgt = self.attention_2(tgt, memory, memory)\n",
        "\n",
        "        # Pass through the feed-forward network\n",
        "        return self.feed_forward(tgt)"
      ]
    },
    {
      "cell_type": "markdown",
      "metadata": {
        "id": "6g8J94rHsusT"
      },
      "source": [
        "## Full Transfomer Decoder\n",
        "\n",
        "**Task**: implement the transfomer decoder part class"
      ]
    },
    {
      "cell_type": "code",
      "execution_count": 21,
      "metadata": {
        "id": "EnXSvVUUs4sy"
      },
      "outputs": [],
      "source": [
        "class TransformerDecoder(nn.Module):\n",
        "    def __init__(\n",
        "        self,\n",
        "        num_layers: int = 6,\n",
        "        dim_model: int = 512,\n",
        "        num_heads: int = 8,\n",
        "        dim_feedforward: int = 2048,\n",
        "        dropout: float = 0.1,\n",
        "    ):\n",
        "        super().__init__()\n",
        "        # Initialize laters from TransformerDecoderLayer instances\n",
        "        self.layers = nn.ModuleList([\n",
        "            TransformerDecoderLayer(dim_model, num_heads, dim_feedforward, dropout) for _ in range(num_layers)\n",
        "        ])\n",
        "\n",
        "    def forward(self, tgt: Tensor, memory: Tensor) -> Tensor:\n",
        "        # Calculate sequence length and dimension from the target tensor\n",
        "        seq_len, dimension = tgt.size(1), tgt.size(2)\n",
        "\n",
        "        # Add position encoding to the target tensor\n",
        "        tgt += position_encoding(seq_len, dimension, tgt.device)\n",
        "\n",
        "        # Process each layer in the transformer decoder\n",
        "        # Code here\n",
        "        for layer in self.layers:\n",
        "            tgt = layer(tgt, memory)\n",
        "\n",
        "        # Apply a softmax to the output of the final linear layer\n",
        "        return tgt"
      ]
    },
    {
      "cell_type": "markdown",
      "metadata": {
        "id": "B-6Uav2htlEF"
      },
      "source": [
        "## Full Transfomer model\n",
        "\n",
        "**Task**:\n",
        "1. Assembly a full transfomer (Encoder + Decoder)\n",
        "2. Implement the Transfomer training loop\n",
        "3. Using dataset of your choice train the transformer just for one epoch\n"
      ]
    },
    {
      "cell_type": "code",
      "execution_count": 22,
      "metadata": {
        "id": "UzfY-uEmtppU"
      },
      "outputs": [],
      "source": [
        "class Transformer(nn.Module):\n",
        "    def __init__(self, vocab_size, num_encoder_layers=12, num_decoder_layers=12, dim_model=512, num_heads=6, dim_feedforward=2048, dropout=0.1):\n",
        "        super().__init__()\n",
        "        self.embedding = nn.Embedding(vocab_size, dim_model)\n",
        "        self.encoder = TransformerEncoder(num_encoder_layers, dim_model, num_heads, dim_feedforward, dropout)\n",
        "        self.decoder = TransformerDecoder(num_decoder_layers, dim_model, num_heads, dim_feedforward, dropout)\n",
        "        # Define the output linear transformation\n",
        "        self.linear = nn.Linear(dim_model, vocab_size)\n",
        "\n",
        "    def forward(self, src, tgt):\n",
        "        encoder_output = self.encoder(self.embedding(src))\n",
        "        decoder_output = self.decoder(self.embedding(tgt), encoder_output)\n",
        "        return self.linear(decoder_output)"
      ]
    },
    {
      "cell_type": "code",
      "source": [
        "from torch.utils.data import DataLoader, Dataset\n",
        "\n",
        "class RandomDataset(Dataset):\n",
        "    def __init__(self, num_samples, seq_length, vocab_size):\n",
        "        self.num_samples = num_samples\n",
        "        self.seq_length = seq_length\n",
        "        self.vocab_size = vocab_size\n",
        "\n",
        "    def __len__(self):\n",
        "        return self.num_samples\n",
        "\n",
        "    def __getitem__(self, idx):\n",
        "        src = torch.randint(1, self.vocab_size, (self.seq_length,))\n",
        "        tgt = src.clone()\n",
        "        return src, tgt\n",
        "\n",
        "# Training loop\n",
        "def train_transformer(model, dataloader, criterion, optimizer, device):\n",
        "    model.train()\n",
        "    for i in range(1):\n",
        "        for batch_idx, (src, tgt) in enumerate(dataloader):\n",
        "            src, tgt = src.to(device), tgt.to(device)\n",
        "            optimizer.zero_grad()\n",
        "            output = model(src, tgt[:, :-1])\n",
        "            loss = criterion(output.view(-1, output.size(-1)), tgt[:, 1:].reshape(-1))\n",
        "            loss.backward()\n",
        "            optimizer.step()\n",
        "            print(f\"Batch {batch_idx}/{len(dataloader)}, Loss: {loss.item()}\")\n",
        "\n",
        "# Hyperparameters and setup\n",
        "vocab_size = 10000\n",
        "seq_length = 32\n",
        "batch_size = 64\n",
        "num_samples = 1000\n",
        "learning_rate = 3e-4\n",
        "\n",
        "device = torch.device(\"cuda\" if torch.cuda.is_available() else \"cpu\")\n",
        "model = Transformer(vocab_size).to(device)\n",
        "\n",
        "dataset = RandomDataset(num_samples, seq_length, vocab_size)\n",
        "dataloader = DataLoader(dataset, batch_size=batch_size, shuffle=True)\n",
        "\n",
        "criterion = nn.CrossEntropyLoss()\n",
        "optimizer = optim.Adam(model.parameters(), lr=learning_rate)\n",
        "\n",
        "# Train for one epoch\n",
        "train_transformer(model, dataloader, criterion, optimizer, device)"
      ],
      "metadata": {
        "colab": {
          "base_uri": "https://localhost:8080/"
        },
        "id": "ABWs1NJYXYKM",
        "outputId": "9c46334f-1486-4708-f631-c3391347a29e"
      },
      "execution_count": 23,
      "outputs": [
        {
          "output_type": "stream",
          "name": "stdout",
          "text": [
            "Batch 0/16, Loss: 9.387690544128418\n",
            "Batch 1/16, Loss: 9.376551628112793\n",
            "Batch 2/16, Loss: 9.365616798400879\n",
            "Batch 3/16, Loss: 9.403587341308594\n",
            "Batch 4/16, Loss: 9.35863208770752\n",
            "Batch 5/16, Loss: 9.378893852233887\n",
            "Batch 6/16, Loss: 9.365923881530762\n",
            "Batch 7/16, Loss: 9.362811088562012\n",
            "Batch 8/16, Loss: 9.364035606384277\n",
            "Batch 9/16, Loss: 9.369789123535156\n",
            "Batch 10/16, Loss: 9.35463809967041\n",
            "Batch 11/16, Loss: 9.356008529663086\n",
            "Batch 12/16, Loss: 9.34257984161377\n",
            "Batch 13/16, Loss: 9.379120826721191\n",
            "Batch 14/16, Loss: 9.364068984985352\n",
            "Batch 15/16, Loss: 9.33487319946289\n"
          ]
        }
      ]
    },
    {
      "cell_type": "code",
      "source": [],
      "metadata": {
        "id": "SDzuiYJDaYjp"
      },
      "execution_count": null,
      "outputs": []
    }
  ],
  "metadata": {
    "accelerator": "GPU",
    "colab": {
      "provenance": []
    },
    "gpuClass": "standard",
    "kernelspec": {
      "display_name": "Python 3",
      "name": "python3"
    },
    "language_info": {
      "name": "python"
    }
  },
  "nbformat": 4,
  "nbformat_minor": 0
}